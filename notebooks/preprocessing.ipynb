{
 "cells": [
  {
   "cell_type": "code",
   "execution_count": 1,
   "id": "db60e447-88f9-4263-9b4d-d692cfa1bdf8",
   "metadata": {},
   "outputs": [],
   "source": [
    "import pandas as pd"
   ]
  },
  {
   "cell_type": "code",
   "execution_count": 2,
   "id": "28c7f62c-03ac-4683-9e86-b69ea8c35f94",
   "metadata": {},
   "outputs": [],
   "source": [
    "df = pd.read_csv('../data/the-office_lines.csv', index_col=0)"
   ]
  },
  {
   "cell_type": "code",
   "execution_count": 3,
   "id": "b9d806bd-6348-4f2b-81c5-105787d14f7a",
   "metadata": {},
   "outputs": [
    {
     "data": {
      "text/html": [
       "<div>\n",
       "<style scoped>\n",
       "    .dataframe tbody tr th:only-of-type {\n",
       "        vertical-align: middle;\n",
       "    }\n",
       "\n",
       "    .dataframe tbody tr th {\n",
       "        vertical-align: top;\n",
       "    }\n",
       "\n",
       "    .dataframe thead th {\n",
       "        text-align: right;\n",
       "    }\n",
       "</style>\n",
       "<table border=\"1\" class=\"dataframe\">\n",
       "  <thead>\n",
       "    <tr style=\"text-align: right;\">\n",
       "      <th></th>\n",
       "      <th>Character</th>\n",
       "      <th>Line</th>\n",
       "      <th>Season</th>\n",
       "      <th>Episode_Number</th>\n",
       "    </tr>\n",
       "  </thead>\n",
       "  <tbody>\n",
       "    <tr>\n",
       "      <th>0</th>\n",
       "      <td>Michael</td>\n",
       "      <td>All right Jim. Your quarterlies look very goo...</td>\n",
       "      <td>1</td>\n",
       "      <td>1</td>\n",
       "    </tr>\n",
       "    <tr>\n",
       "      <th>1</th>\n",
       "      <td>Jim</td>\n",
       "      <td>Oh, I told you. I couldn’t close it. So…</td>\n",
       "      <td>1</td>\n",
       "      <td>1</td>\n",
       "    </tr>\n",
       "    <tr>\n",
       "      <th>2</th>\n",
       "      <td>Michael</td>\n",
       "      <td>So you’ve come to the master for guidance? Is...</td>\n",
       "      <td>1</td>\n",
       "      <td>1</td>\n",
       "    </tr>\n",
       "    <tr>\n",
       "      <th>3</th>\n",
       "      <td>Jim</td>\n",
       "      <td>Actually, you called me in here, but yeah.</td>\n",
       "      <td>1</td>\n",
       "      <td>1</td>\n",
       "    </tr>\n",
       "    <tr>\n",
       "      <th>4</th>\n",
       "      <td>Michael</td>\n",
       "      <td>All right. Well, let me show you how it’s don...</td>\n",
       "      <td>1</td>\n",
       "      <td>1</td>\n",
       "    </tr>\n",
       "    <tr>\n",
       "      <th>...</th>\n",
       "      <td>...</td>\n",
       "      <td>...</td>\n",
       "      <td>...</td>\n",
       "      <td>...</td>\n",
       "    </tr>\n",
       "    <tr>\n",
       "      <th>61302</th>\n",
       "      <td>Creed</td>\n",
       "      <td>It all seems so very arbitrary. I applied for...</td>\n",
       "      <td>9</td>\n",
       "      <td>23</td>\n",
       "    </tr>\n",
       "    <tr>\n",
       "      <th>61303</th>\n",
       "      <td>Meredith</td>\n",
       "      <td>I just feel lucky that I got a chance to shar...</td>\n",
       "      <td>9</td>\n",
       "      <td>23</td>\n",
       "    </tr>\n",
       "    <tr>\n",
       "      <th>61304</th>\n",
       "      <td>Phyllis</td>\n",
       "      <td>I’m happy that this was all filmed so I can r...</td>\n",
       "      <td>9</td>\n",
       "      <td>23</td>\n",
       "    </tr>\n",
       "    <tr>\n",
       "      <th>61305</th>\n",
       "      <td>Jim</td>\n",
       "      <td>I sold paper at this company for 12 years. My...</td>\n",
       "      <td>9</td>\n",
       "      <td>23</td>\n",
       "    </tr>\n",
       "    <tr>\n",
       "      <th>61306</th>\n",
       "      <td>Pam</td>\n",
       "      <td>I thought it was weird when you picked us to ...</td>\n",
       "      <td>9</td>\n",
       "      <td>23</td>\n",
       "    </tr>\n",
       "  </tbody>\n",
       "</table>\n",
       "<p>58721 rows × 4 columns</p>\n",
       "</div>"
      ],
      "text/plain": [
       "      Character                                               Line  Season  \\\n",
       "0       Michael   All right Jim. Your quarterlies look very goo...       1   \n",
       "1           Jim           Oh, I told you. I couldn’t close it. So…       1   \n",
       "2       Michael   So you’ve come to the master for guidance? Is...       1   \n",
       "3           Jim         Actually, you called me in here, but yeah.       1   \n",
       "4       Michael   All right. Well, let me show you how it’s don...       1   \n",
       "...         ...                                                ...     ...   \n",
       "61302     Creed   It all seems so very arbitrary. I applied for...       9   \n",
       "61303  Meredith   I just feel lucky that I got a chance to shar...       9   \n",
       "61304   Phyllis   I’m happy that this was all filmed so I can r...       9   \n",
       "61305       Jim   I sold paper at this company for 12 years. My...       9   \n",
       "61306       Pam   I thought it was weird when you picked us to ...       9   \n",
       "\n",
       "       Episode_Number  \n",
       "0                   1  \n",
       "1                   1  \n",
       "2                   1  \n",
       "3                   1  \n",
       "4                   1  \n",
       "...               ...  \n",
       "61302              23  \n",
       "61303              23  \n",
       "61304              23  \n",
       "61305              23  \n",
       "61306              23  \n",
       "\n",
       "[58721 rows x 4 columns]"
      ]
     },
     "execution_count": 3,
     "metadata": {},
     "output_type": "execute_result"
    }
   ],
   "source": [
    "df"
   ]
  },
  {
   "cell_type": "code",
   "execution_count": 6,
   "id": "8c4745bb-12a2-4e45-95bd-6b6c98ef7e64",
   "metadata": {},
   "outputs": [
    {
     "data": {
      "text/plain": [
       "' All right Jim. Your quarterlies look very good. How are things at the library?'"
      ]
     },
     "execution_count": 6,
     "metadata": {},
     "output_type": "execute_result"
    }
   ],
   "source": [
    "# We would like to have 1 entry = 1 sentence. not multiple sentences / until the next character speaks\n",
    "df.iloc[0]['Line']"
   ]
  },
  {
   "cell_type": "code",
   "execution_count": 85,
   "id": "04f64cdf-a837-442c-8d8e-3b7eaa7d3ac0",
   "metadata": {},
   "outputs": [],
   "source": [
    "# Let's split all the multi-sentence lines into single sentences and assign 1 row entry per sentence\n",
    "splitchars = ['.', '?', '!']\n",
    "df_sentences = df.copy()\n",
    "for schar in splitchars:\n",
    "    df_sentences=df_sentences.assign(Line=df_sentences.Line.str.split(schar)).explode(\"Line\")"
   ]
  },
  {
   "cell_type": "code",
   "execution_count": 86,
   "id": "8a4d42de-d616-4225-889b-4b2f5ff5035a",
   "metadata": {},
   "outputs": [],
   "source": [
    "# Now let's remove all the empty sentences / spaces that were created from splitting / or already existed in the raw data \n",
    "df_sentences.Line = df_sentences.Line.str.replace(r'\\s+', ' ', regex=True)\n",
    "df_sentences = df_sentences[(df_sentences['Line'] != '') & (df_sentences['Line'] != ' ')]"
   ]
  },
  {
   "cell_type": "code",
   "execution_count": 87,
   "id": "f7f0d203-fd88-4e88-9395-0baf89140323",
   "metadata": {},
   "outputs": [],
   "source": [
    "# And re-create a meaningful index\n",
    "if 'line_id' not in df_sentences.columns:\n",
    "    df_sentences= df_sentences.reset_index().rename(columns={'index': 'line_id', 'Line': 'Sentence'})"
   ]
  },
  {
   "cell_type": "code",
   "execution_count": 89,
   "id": "a7509ca3-ec0c-40ea-8420-ea908e2742d7",
   "metadata": {},
   "outputs": [
    {
     "data": {
      "text/plain": [
       " Yeah                                                 1184\n",
       " No                                                   1116\n",
       " Okay                                                  953\n",
       " Yes                                                   706\n",
       " What                                                  610\n",
       "                                                      ... \n",
       " I like knowing that there’s going to be a break         1\n",
       " Yeah, I work hard all day                               1\n",
       " It’s a birthday, so what if there’s a lot of them       1\n",
       " What is Jim thinking                                    1\n",
       " Isn’t that kind of the point                            1\n",
       "Name: Sentence, Length: 85528, dtype: int64"
      ]
     },
     "execution_count": 89,
     "metadata": {},
     "output_type": "execute_result"
    }
   ],
   "source": [
    "df_sentences['Sentence'].value_counts()"
   ]
  },
  {
   "cell_type": "code",
   "execution_count": 113,
   "id": "81b569e1-9737-428e-801f-727eb3f11a3f",
   "metadata": {},
   "outputs": [
    {
     "name": "stderr",
     "output_type": "stream",
     "text": [
      "/var/folders/gl/lf_ddy9561j7lbb3hpj3ks2w0000gn/T/ipykernel_8664/3518932128.py:2: FutureWarning: The default value of regex will change from True to False in a future version.\n",
      "  df_sentences['Sentence'] = df_sentences['Sentence'].str.replace(r\"\\[.*\\]\",\"\")\n"
     ]
    }
   ],
   "source": [
    "# We also need to remove 'descriptions of situations' from the sentences e.g., [Michael sings] blabla -> blabla\n",
    "df_sentences['Sentence'] = df_sentences['Sentence'].str.replace(r\"\\[.*\\]\",\"\")\n",
    "df_sentences = df_sentences[(df_sentences['Sentence'] != ']') \n",
    "                            & (df_sentences['Sentence'] != '] ')\n",
    "                            & (df_sentences['Sentence'] != '”] ')\n",
    "                           ]"
   ]
  },
  {
   "cell_type": "code",
   "execution_count": null,
   "id": "a6cd5cce-e422-4dd5-85d8-a1de6992b3ce",
   "metadata": {},
   "outputs": [],
   "source": [
    "# Some situation descriptions have a missing \"[\" and only a closing bracket \"]\"\n",
    "# A quick investagtion shows that these are only ~200 sentences and they always START with the situation description\n",
    "# Thus we can just remove everything BEFORE and incl. the closing bracket\n",
    "df_sentences['Sentence'] = df_sentences['Sentence'].str.replace(r\"\\[.*\\]\",\"\")"
   ]
  },
  {
   "cell_type": "code",
   "execution_count": 117,
   "id": "9c8e7764-521d-4938-bc33-f3e45c79b914",
   "metadata": {},
   "outputs": [
    {
     "data": {
      "text/plain": [
       "] Oh                                                                                                                               2\n",
       "] Why                                                                                                                              2\n",
       "] Bummer                                                                                                                           2\n",
       "] Reese’s Pieces                                                                                                                   2\n",
       " Brown] Oh, hey                                                                                                                    1\n",
       " As the cab leaves, Pam drives in] She’s my family                                                                                 1\n",
       " Pauli Girl Sign, hanging in Ryan’s office]                                                                                        1\n",
       " Nervously, Andy laughs with him]                                                                                                  1\n",
       " Michael leaves Erin, looking thoughtful]                                                                                          1\n",
       " Michael nods to him and walks away]                                                                                               1\n",
       " He has paint in his messed up hair, and is containing his laughter]                                                               1\n",
       " All others follow]                                                                                                                1\n",
       " Michael hugs him] I ruv you all                                                                                                   1\n",
       " Crying and has smeared make up on] No he wasn’t sad                                                                               1\n",
       " They say their goodbyes to each other, and Michael walks off for good]                                                            1\n",
       " Pam knocks on her car window] Hey, Erin, everything okay                                                                          1\n",
       " Jim gives the camera a knowing look] Well if he’s not gonna make it at least we should go ahead and eat the cake                  1\n",
       " The office groans] What am I doing                                                                                                1\n",
       "” pin on his jacket] And, to be honest, I think a lot of the decent candidates are right here in-house, so, I’m not too worried    1\n",
       " Pam looks around the office and realizes only she has overheard this]                                                             1\n",
       "Name: Sentence, dtype: int64"
      ]
     },
     "execution_count": 117,
     "metadata": {},
     "output_type": "execute_result"
    }
   ],
   "source": [
    "df_sentences[df_sentences.Sentence.str.contains(']')]['Sentence'].value_counts()[:20]"
   ]
  },
  {
   "cell_type": "code",
   "execution_count": 115,
   "id": "eaed3fd6-50ca-4ebb-b784-ac4a38130d58",
   "metadata": {},
   "outputs": [],
   "source": [
    "df_sentences.to_csv('../data/the-office_lines_sentences_preprocessed.csv')"
   ]
  },
  {
   "cell_type": "code",
   "execution_count": null,
   "id": "c0f4958b-2f58-45c4-9665-5ba355e50350",
   "metadata": {},
   "outputs": [],
   "source": []
  }
 ],
 "metadata": {
  "kernelspec": {
   "display_name": "the_office",
   "language": "python",
   "name": "the_office"
  },
  "language_info": {
   "codemirror_mode": {
    "name": "ipython",
    "version": 3
   },
   "file_extension": ".py",
   "mimetype": "text/x-python",
   "name": "python",
   "nbconvert_exporter": "python",
   "pygments_lexer": "ipython3",
   "version": "3.10.4"
  }
 },
 "nbformat": 4,
 "nbformat_minor": 5
}
